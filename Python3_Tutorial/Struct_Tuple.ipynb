{
 "cells": [
  {
   "cell_type": "markdown",
   "metadata": {},
   "source": [
    "# 元组的访问与管理"
   ]
  },
  {
   "cell_type": "code",
   "execution_count": 1,
   "metadata": {},
   "outputs": [],
   "source": [
    "tp = (1, 1, 2, 3, 5, 8, 13, 21); "
   ]
  },
  {
   "cell_type": "markdown",
   "metadata": {},
   "source": [
    "## 用索引访问元素"
   ]
  },
  {
   "cell_type": "markdown",
   "metadata": {},
   "source": [
    "### 用索引访问单个元素\n",
    "* 功能上相当于Mathematica中的`Part`函数, 但只能访问到第一层. "
   ]
  },
  {
   "cell_type": "code",
   "execution_count": 2,
   "metadata": {},
   "outputs": [
    {
     "name": "stdout",
     "output_type": "stream",
     "text": [
      "(1, 1, 2, 3, 5, 8, 13, 21)\n",
      "1 2 21 8\n"
     ]
    }
   ],
   "source": [
    "print(tp)\n",
    "print(tp[0], tp[2], tp[-1], tp[-3]); "
   ]
  },
  {
   "cell_type": "markdown",
   "metadata": {},
   "source": [
    "### 用索引蔟按照一定顺序访问元素, 使得访问的结果构成新元组\n",
    "* 功能上相当于Mathematica中的`Span`函数. 但是需要注意: \n",
    "    * `start: end: step`中的末项, 是`end`索引的元素的上一个元素, \\\n",
    "        因此索引簇索引的是\"左闭右开区间\". "
   ]
  },
  {
   "cell_type": "code",
   "execution_count": 3,
   "metadata": {},
   "outputs": [
    {
     "name": "stdout",
     "output_type": "stream",
     "text": [
      "(1, 1, 2, 3, 5, 8, 13, 21)\n",
      "(2,) (2, 3, 5) (2, 3, 5, 8, 13)\n",
      "(2, 3, 5, 8, 13, 21) (1, 1) (1, 2, 5, 13)\n"
     ]
    }
   ],
   "source": [
    "print(tp)\n",
    "print(tp[2: 3], tp[2: 5: 1], tp[2: -1]); \n",
    "print(tp[2: ], tp[: 2: 1], tp[: : 2])"
   ]
  },
  {
   "cell_type": "markdown",
   "metadata": {},
   "source": [
    "### 按一定条件顺次检索元组中的内容, 使得符合条件的检索结果, 按照检索顺序应用变换, 并构成新元组\n",
    "* 功能上相当于Mathematica中, `Select`函数和`Map`函数的合体, 但只能`Map`到第一层. "
   ]
  },
  {
   "cell_type": "code",
   "execution_count": 4,
   "metadata": {},
   "outputs": [
    {
     "name": "stdout",
     "output_type": "stream",
     "text": [
      "(1, 1, 2, 3, 5, 8, 13, 21)\n",
      "[5]\n",
      "[1, 1, 2, 3, 5, 8, 3, 1]\n"
     ]
    }
   ],
   "source": [
    "print(tp)\n",
    "print([elem for elem in tp if elem % 5==0]); \n",
    "print([elem % 10 for elem in tp]); "
   ]
  },
  {
   "cell_type": "markdown",
   "metadata": {},
   "source": [
    "## 元组中位置和计数信息的查询\n",
    "\n",
    "* 查询元组的长度\n",
    "* 查询一个元素在元组中...\n",
    "    * ...是否存在\n",
    "    * ...首次出现的位序\n",
    "    * ...出现的次数"
   ]
  },
  {
   "cell_type": "code",
   "execution_count": 5,
   "metadata": {},
   "outputs": [
    {
     "name": "stdout",
     "output_type": "stream",
     "text": [
      "(1, 1, 2, 3, 5, 8, 13, 21)\n",
      "8\n",
      "[1, 1, 1, 0, 1, 0, 0, 1, 0, 0]\n",
      "[0, 0, 2, 3, 4, 5, 6, 7]\n",
      "[2, 2, 1, 1, 1, 1, 1, 1]\n"
     ]
    }
   ],
   "source": [
    "print(tp)\n",
    "print(len(tp))\n",
    "print([int(x in tp) for x in range(1, 11)]); \n",
    "print([tp.index(elem) for elem in tp]); \n",
    "print([tp.count(elem) for elem in tp]); "
   ]
  },
  {
   "cell_type": "markdown",
   "metadata": {},
   "source": [
    "## 元组的结构不可修改\n",
    "`tuple`对象一旦创立, 不能使用`tp[idx] = val`, `del tp[idx]`等语句修改或删除个别元素, 也不能对原`tuple`对象进行加长, 缩短, 调换元素次序等操作, 如需获得上述操作的结果, 需要返回一个新`tuple`对象. "
   ]
  },
  {
   "cell_type": "markdown",
   "metadata": {},
   "source": [
    "## 元组的省略表示\n",
    "* 对于具有两个以上元素的元组, 其两侧括号可以省略; \n",
    "* 对于具有**单个元素**的元组, 需在元素后**接一逗号**, 使该元组与其包含的元素相区分. 此后两侧括号也可省略"
   ]
  },
  {
   "cell_type": "code",
   "execution_count": 6,
   "metadata": {},
   "outputs": [
    {
     "name": "stdout",
     "output_type": "stream",
     "text": [
      "True\n",
      "[False, False, True]\n"
     ]
    }
   ],
   "source": [
    "tp_omit = 1, 2; print(tp_omit == (1, 2))\n",
    "tp_omit = 1, ; print([tp_omit == obj for obj in [1, (1), (1,)]])"
   ]
  },
  {
   "cell_type": "markdown",
   "metadata": {},
   "source": [
    "## 元组的特殊应用"
   ]
  },
  {
   "cell_type": "markdown",
   "metadata": {},
   "source": [
    "### 批量挂载\n",
    "`vars = objs`语句支持对多个变量进行批量挂载, 需按照对应关系, 在`=`左右两边的`tuple`中, 分别列举变量和挂载的目标对象. \n",
    "* 若未采用[下节](#变长挂载)所述的变长挂载方法, 则`vars`和`objs`的元素间必须一一对应: \n",
    "    * `len(vars) == len(objs)`, 否则将抛出异常`ValueError`; \n",
    "    * `objs`中下标为`idx`的对象, 将被对应挂载到`vars`中下标同为`idx`的变量名下. \n",
    "    * 语句`var1, var2, var3 = obj1, obj2, obj3`等效于`var1 = obj1; var2 = obj2; var3 = obj3`; \n",
    "* 若`=`号左侧存在重复出现的变量, 则该变量的挂载结果, 取决于该变量在`=`左侧元组内最后出现时, `=`右侧元组对应位置上的目标对象; \n",
    "* 支持元组的省略表示形式. "
   ]
  },
  {
   "cell_type": "code",
   "execution_count": 7,
   "metadata": {},
   "outputs": [
    {
     "name": "stdout",
     "output_type": "stream",
     "text": [
      "3 (1, 2)\n",
      "2 1\n",
      "3\n"
     ]
    }
   ],
   "source": [
    "a, b = 1, 2; c = 1, 2; print(a + b, c); \n",
    "a, b = b, a; print(a, b); \n",
    "a, b, a = 1, 2, 3; print(a); "
   ]
  },
  {
   "cell_type": "markdown",
   "metadata": {},
   "source": [
    "### 变长挂载\n",
    "在[批量挂载](#批量挂载)语句`vars = objs`中, `vars`**最多可指定一个**元素, 使其对应的变量的挂载结果是变长的. \n",
    "\n",
    "* 当启用变长挂载后, `len(vars) >= len(objs) - 1`, 否则将抛出异常`ValueError`;  \n",
    "* 被设置为变长挂载的变量, 在挂载语句中, 其标识符应紧邻在单个星号(`*`)之后; \n",
    "* 被设置为变长挂载的变量, 挂载结果总是一个`list`对象, 其长度为`len(vars) - len(objs) + 1`. "
   ]
  },
  {
   "cell_type": "code",
   "execution_count": 8,
   "metadata": {},
   "outputs": [
    {
     "name": "stdout",
     "output_type": "stream",
     "text": [
      "(1, 2) []\n",
      "(1, 2, 3) [2]\n",
      "(1, 2, 3, 4) [2, 3]\n"
     ]
    }
   ],
   "source": [
    "for tp_mnt in (1, 2), (1, 2, 3), (1, 2, 3, 4): \n",
    "    a, *b, c = tp_mnt; print(tp_mnt, b)"
   ]
  }
 ],
 "metadata": {
  "kernelspec": {
   "display_name": "Python 3",
   "language": "python",
   "name": "python3"
  },
  "language_info": {
   "codemirror_mode": {
    "name": "ipython",
    "version": 3
   },
   "file_extension": ".py",
   "mimetype": "text/x-python",
   "name": "python",
   "nbconvert_exporter": "python",
   "pygments_lexer": "ipython3",
   "version": "3.7.4"
  }
 },
 "nbformat": 4,
 "nbformat_minor": 2
}
