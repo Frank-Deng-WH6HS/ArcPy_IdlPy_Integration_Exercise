{
 "cells": [
  {
   "cell_type": "markdown",
   "metadata": {},
   "source": [
    "# 字典的访问与管理"
   ]
  },
  {
   "cell_type": "code",
   "execution_count": 1,
   "metadata": {},
   "outputs": [],
   "source": [
    "dc = {\"Beijing\": 110000, \"Shanghai\": 310000, \"Guangzhou\": 440100, \n",
    "        \"Wuhan\": 420100, \"Chengdu\": 510100, \"Chongqing\": 500000, \n",
    "        \"Zhengzhou\": 410100, \"Nanjing\": 320100, \"Changsha\": 430100}; "
   ]
  },
  {
   "cell_type": "markdown",
   "metadata": {},
   "source": [
    "## 用索引访问单个元素\n",
    "`dict`是键值对关系, 利用键访问对应的值. \n",
    "* 利用中括号括注键索引`dict`的值\n",
    "    * 若`dict`中不存在对应的键, 过程将报`KeyError`错误, 不返回结果(需要编写异常处理程序). \n",
    "* 调用dict对象的get方法, 查找键, 并指定缺省值\n",
    "    * 若`dict`中不存在对应的键, `get`方法将自动实现异常处理, 返回设置的缺省值. \n",
    "    \n",
    "`dict`的索引是由其定义中的各个键的内容确立的, 是无序的. \n",
    "\n",
    "`dict`在内存中的实现形式是Hash查找表. \n",
    "* 因此, 同一个字典下, 同一个键只能保留一个键值对. \n",
    "* 在字典的构造过程中, 若对同一个键定义了两个以上的键值对, 在构造结束后, 所得的字典中, 该键所对应的值以最近的一次定义为准. "
   ]
  },
  {
   "cell_type": "code",
   "execution_count": 4,
   "metadata": {},
   "outputs": [
    {
     "name": "stdout",
     "output_type": "stream",
     "text": [
      "{'Beijing': 110000, 'Shanghai': 310000, 'Guangzhou': 440100, 'Wuhan': 420100, 'Chengdu': 510100, 'Chongqing': 500000, 'Zhengzhou': 410100, 'Nanjing': 320100, 'Changsha': 430100}\n",
      "110000\n",
      "110000\n",
      "[110000, 'Missing', 'Missing']\n",
      "<class 'KeyError'> 'Moscow'\n"
     ]
    }
   ],
   "source": [
    "print(dc); \n",
    "print(dc.get(\"Beijing\")); \n",
    "print(dc[\"Beijing\"]); \n",
    "print([dc.get(loc, \"Missing\") for loc in [\"Beijing\", \"Moscow\", \"Washington DC\"]]); \n",
    "try: \n",
    "    print([dc[loc] for loc in [\"Beijing\", \"Moscow\", \"Washington DC\"]])\n",
    "    #[ ∙ for ∙]将会循环将每一个键名代入dc指向的字典中去查找, 并在第一个差找不到的键上停止并报错. \n",
    "except Exception as err: \n",
    "    #报错后执行except子句, 显示错误类型和描述. \n",
    "    print(type(err), str(err)); "
   ]
  },
  {
   "cell_type": "markdown",
   "metadata": {},
   "source": [
    "## 用`generator`对象检索字典中的内容"
   ]
  },
  {
   "cell_type": "markdown",
   "metadata": {},
   "source": [
    "### 按一定顺序和条件检索字典的键值对, 使得符合条件的检索结果, 按照检索顺序应用变换, 并构成子字典, \n",
    "* 功能上相当于Mathematica中, `Select`函数和`Map`函数的合体, 但只能`Map`到第一层. \n",
    "\n",
    "用法: \n",
    "* 只需要处理字典中的键\n",
    "```python\n",
    "{mapping(key) for key in dict.keys() if cond(key)}\n",
    "```\n",
    "* 处理键值对互作的情况\n",
    "```python\n",
    "{mapping(key, val) for (key, val) in dict.items() if cond(key, val)}\n",
    "```\n",
    "\n",
    "注意: 对字典的键值对进行遍历, 不建议使用`enumerate`. \n",
    "> `enumerate`直接作用于`dict`, 所得的是键(迭代器无法直接获取对应的值), 以及枚举过程中自动形成的下标. \n",
    "> 这一下标是构造`enumerate`对象的过程产生的, **`dict`本身仍然是无序的**. "
   ]
  },
  {
   "cell_type": "code",
   "execution_count": 2,
   "metadata": {},
   "outputs": [
    {
     "name": "stdout",
     "output_type": "stream",
     "text": [
      "{'Beijing': 110000, 'Shanghai': 310000, 'Guangzhou': 440100, 'Wuhan': 420100, 'Chengdu': 510100, 'Chongqing': 500000, 'Zhengzhou': 410100, 'Nanjing': 320100, 'Changsha': 430100}\n",
      "{'Beijing': 110000, 'Guangzhou': 440100, 'Chengdu': 510100, 'Chongqing': 500000, 'Changsha': 430100}\n",
      "{'Beijing': 11, 'Shanghai': 31, 'Guangzhou': 44, 'Wuhan': 42, 'Chengdu': 51, 'Chongqing': 50, 'Zhengzhou': 41, 'Nanjing': 32, 'Changsha': 43}\n"
     ]
    }
   ],
   "source": [
    "print(dc)\n",
    "print({key: val for (key, val) in dc.items() if key[0] <= \"M\"}); \n",
    "print({key: val // 10000 for (key, val) in dc.items()}); "
   ]
  },
  {
   "cell_type": "markdown",
   "metadata": {},
   "source": [
    "## 字典中计数信息的查询\n",
    "* 查询字典的长度\n",
    "* 在字典中查询...\n",
    "    * ...一个键是否存在\n",
    "    * ...一个值是否存在\n",
    "    * ...一个值在其中出现的次数"
   ]
  },
  {
   "cell_type": "code",
   "execution_count": 3,
   "metadata": {
    "scrolled": true
   },
   "outputs": [
    {
     "name": "stdout",
     "output_type": "stream",
     "text": [
      "{'Beijing': 110000, 'Shanghai': 310000, 'Guangzhou': 440100, 'Wuhan': 420100, 'Chengdu': 510100, 'Chongqing': 500000, 'Zhengzhou': 410100, 'Nanjing': 320100, 'Changsha': 430100}\n",
      "9\n",
      "[True, False, False]\n",
      "[(13, 0), (14, 0), (21, 0), (22, 0), (23, 0), (32, 1), (33, 0), (34, 0), (35, 0), (36, 0), (37, 0), (38, 0), (41, 1), (42, 1), (43, 1), (44, 1), (46, 0), (51, 1), (52, 0), (53, 0), (61, 0), (62, 0), (63, 0)]\n",
      "1\n"
     ]
    }
   ],
   "source": [
    "print(dc)\n",
    "print(len(dc))\n",
    "print([(x in dc) for x in [\"Beijing\", \"Moscow\", \"Washington DC\"]]); \n",
    "province = (13, 14, 21, 22, 23, 32, 33, 34, 35, 36, 37, 38, \n",
    "            41, 42, 43, 44, 46, 51, 52, 53, 61, 62, 63); \n",
    "print([(x, int(10000 * x + 100 in dc.values())) for x in province]); \n",
    "print(list(dc.values()).count(110000))"
   ]
  },
  {
   "cell_type": "markdown",
   "metadata": {},
   "source": [
    "## 利用变量所对应的`dict`对象的取值, 另建一个与原对象相互独立的对象 / 字典中个别元素的修改. \n",
    "通过对变量名-键名的索引重新使用挂载语句, 会将变量所指向的`dict`的结构修改. \n",
    "* 若`dict`中不存在该键名, 将根据挂载语句, 创建相应的键值对. "
   ]
  },
  {
   "cell_type": "code",
   "execution_count": 6,
   "metadata": {},
   "outputs": [
    {
     "name": "stdout",
     "output_type": "stream",
     "text": [
      "['0x5110278', '0x5466cc8', '0x5466cc8']\n",
      "[500000, 500000, 500000]\n",
      "[500000, 500100, 500100]\n",
      "[9, 10, 10]\n"
     ]
    }
   ],
   "source": [
    "dc_dupli = dc.copy(); dc_dupli_alias = dc_dupli; \n",
    "print([hex(id(obj)) for obj in [dc, dc_dupli, dc_dupli_alias]]); \n",
    "print([obj[\"Chongqing\"] for obj in [dc, dc_dupli, dc_dupli_alias]]); \n",
    "dc_dupli[\"Chongqing\"] = 500100; \n",
    "print([obj[\"Chongqing\"] for obj in [dc, dc_dupli, dc_dupli_alias]]); \n",
    "dc_dupli[\"Shenzhen\"] = 440300; \n",
    "print([len(obj) for obj in [dc, dc_dupli, dc_dupli_alias]]); "
   ]
  },
  {
   "cell_type": "markdown",
   "metadata": {},
   "source": [
    "## 字典的结构编辑\n",
    "以下方法若通过字典**所挂载变量直接调用**, 会直接**修改对应的**`dict`对象. \n",
    "\n",
    "若只需要用一个变量链接到编辑结果, 但**不修改起初被访问的字典**, 需要先调用`copy()`方法. \n",
    "\n",
    "由于`dict`内键值对的无序性, 因此, 很多与**元素顺序**有关的方法**只适用于`list`, 不适用于`dict`**. "
   ]
  },
  {
   "cell_type": "code",
   "execution_count": 7,
   "metadata": {},
   "outputs": [
    {
     "name": "stdout",
     "output_type": "stream",
     "text": [
      "{'Beijing': 110000, 'Shanghai': 310000, 'Guangzhou': 440100, 'Wuhan': 420100, 'Chengdu': 510100, 'Chongqing': 500000, 'Zhengzhou': 410100, 'Nanjing': 320100, 'Changsha': 430100}\n",
      "None\n",
      "{'Beijing': 110000, 'Shanghai': 310000, 'Guangzhou': 440100, 'Wuhan': 420100, 'Chengdu': 510100, 'Chongqing': 500100, 'Zhengzhou': 410100, 'Nanjing': 320100, 'Changsha': 430100}\n",
      "None\n",
      "{'Beijing': 110000, 'Shanghai': 310000, 'Guangzhou': 440100, 'Wuhan': 420100, 'Chengdu': 510100, 'Chongqing': 500100, 'Zhengzhou': 410100, 'Nanjing': 320100, 'Changsha': 430100, \"Xi'an\": 610100, 'Shenyang': 210100, 'Kunming': 530100}\n",
      "['Beijing', 'Shanghai', 'Guangzhou', 'Wuhan', 'Chengdu', 'Chongqing', 'Zhengzhou', 'Nanjing', 'Changsha']\n",
      "110000 89035384 11\n",
      "310000 89035384 10\n",
      "440100 89035384 9\n",
      "420100 89035384 8\n",
      "510100 89035384 7\n",
      "500100 89035384 6\n",
      "410100 89035384 5\n",
      "320100 89035384 4\n",
      "430100 89035384 3\n",
      "{\"Xi'an\": 610100, 'Shenyang': 210100, 'Kunming': 530100}\n"
     ]
    }
   ],
   "source": [
    "dc_dupli = dc.copy(); print(dc_dupli); \n",
    "#dict对象的update方法, 指定新字典, 将新字典中的键值对中, 覆盖与原字典重复的键所对应的值, \n",
    "#  并将原字典中不存在的键合并至原字典. \n",
    "print(dc_dupli.update({\"Chongqing\": 500100})); \n",
    "print(dc_dupli); \n",
    "print(dc_dupli.update({\"Xi'an\": 610100, \"Shenyang\": 210100, \"Kunming\": 530100})); \n",
    "print(dc_dupli); \n",
    "print([key for (key, val) in dc.items()]); \n",
    "#dict对象的pop方法必须指定键, 执行时会删除dict的对应键值对, 并返回键值对中的值. \n",
    "[print(dc_dupli.pop(key), id(dc_dupli), len(dc_dupli)) for (key, val) in dc.items()]; \n",
    "print(dc_dupli); "
   ]
  }
 ],
 "metadata": {
  "kernelspec": {
   "display_name": "Python 3",
   "language": "python",
   "name": "python3"
  },
  "language_info": {
   "codemirror_mode": {
    "name": "ipython",
    "version": 3
   },
   "file_extension": ".py",
   "mimetype": "text/x-python",
   "name": "python",
   "nbconvert_exporter": "python",
   "pygments_lexer": "ipython3",
   "version": "3.7.4"
  }
 },
 "nbformat": 4,
 "nbformat_minor": 2
}
