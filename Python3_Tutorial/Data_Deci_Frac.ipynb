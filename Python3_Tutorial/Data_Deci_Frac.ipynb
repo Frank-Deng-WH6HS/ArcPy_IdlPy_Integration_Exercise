{
 "cells": [
  {
   "cell_type": "markdown",
   "metadata": {},
   "source": [
    "# Python中的定点小数(`Decimal`)和分数(`Fraction`)对象, 以及支持的运算. "
   ]
  },
  {
   "cell_type": "code",
   "execution_count": 17,
   "metadata": {},
   "outputs": [],
   "source": [
    "import math, decimal, fractions; \n",
    "from decimal import Decimal; from fractions import Fraction; "
   ]
  },
  {
   "cell_type": "markdown",
   "metadata": {},
   "source": [
    "## 定点小数的构造, 及其与浮点小数的精度差异\n",
    "若采用浮点数表示一个有理数, 其最简分数的分母质因数包括$2_{(10)}$以外的质数时, 由于被表示的数在二进制下是无限循环小数, 因此采用浮点数保留其在二进制下的53位有效数字, 将截断后续的部分, 从而产生舍入误差. \n",
    "\n",
    "例如: 十进制下的两个有限小数$0.25_{(10)}$和$0.2_{(10)}$, 在二进制下将分别表示为\n",
    "\n",
    "|十进制小数|十进制分数|二进制小数|\n",
    "|:-|:-:|:-|\n",
    "|$0.25_{(10)}$ (有限小数)|$1\\over4$|$0.01_{2}$ (有限小数)|\n",
    "|$0.2_{(10)}$ (有限小数)|$1\\over5$|$0.\\dot{0}01\\dot{1}_{(2)}$ (无限循环小数)|\n"
   ]
  },
  {
   "cell_type": "code",
   "execution_count": 47,
   "metadata": {},
   "outputs": [
    {
     "name": "stdout",
     "output_type": "stream",
     "text": [
      "[(1, 4), (1, 4), (1, 4)]\n",
      "True True\n"
     ]
    }
   ],
   "source": [
    "xFlt = 0.25; xFlt2Dec = Decimal(xFlt); xStr2Dec = Decimal(\"0.25\"); \n",
    "print([x.as_integer_ratio() for x in [xFlt, xFlt2Dec, xStr2Dec]]); \n",
    "print(xFlt == xFlt2Dec, xFlt2Dec == xStr2Dec)"
   ]
  },
  {
   "cell_type": "markdown",
   "metadata": {},
   "source": [
    "上述二进制下的无限循环小数, 分别用不同的方法定义, 定义机制各有差异: \n",
    "* 如果声明为`float`对象, 其在Python中的实际值与字面值将存在微小差异. \n",
    "> 例如, `yFlt`是通过直接在代码中输入十进制小数\n",
    "> ```Python\n",
    "> 0.2 #小数的两端没有任何形式的括注\n",
    "> ```\n",
    "> 定义得到的浮点数, 实际的表示结果是\n",
    "> ```Python\n",
    "> 0.200000000000000011102230246251565404236316680908203125\n",
    "> ```\n",
    "> 同时, 浮点数与浮点数计算, 过程中不仅会将这一误差放大, 还会引入新的误差并累计. \n",
    "\n",
    "* 如果用浮点数直接声明`Decimal`对象, 则会将浮点数按照**实际的表示结果**进行转换, 实际值与转换前的`float`一致, 仍与字面值存在微小差异. \n",
    "> 例如, `yFlt2Dec`是将(被解释器视为浮点数的)十进制小数直接用`Decimal`函数转换, 所构造的定点数对象. \n",
    "> ```Python\n",
    "> Decimal(0.2) #把小数直接用Decimal(∙)括注\n",
    "> ```\n",
    "> 实际的表示结果也是\n",
    "> ```Python\n",
    "> 0.200000000000000011102230246251565404236316680908203125\n",
    "> ```\n",
    "> 此时浮点数被转化为十进制定点数, 与其他定点数的计算过程中, 原有的误差会被放大, 但不会引入新的误差. \n",
    "\n",
    "* 当它写作**被字符串引号括注后的**十进制小数的形式, 并被声明为`Decimal`对象, 则其在Python中的实际值将与字面值一致. \n",
    "> 例如, `yStr2Dec`是将十进制小数写作**被双引号括注后的字符串形式**后, 进一步, 通过\n",
    "> ```Python\n",
    "> Decimal(\"0.2\") #先把小数用双引号括注, 再用Decimal(∙)括注\n",
    "> ```\n",
    "> 被`Decimal`函数声明, 所构造的定点数对象. \n",
    "\n",
    "\n"
   ]
  },
  {
   "cell_type": "code",
   "execution_count": 49,
   "metadata": {},
   "outputs": [
    {
     "name": "stdout",
     "output_type": "stream",
     "text": [
      "[(3602879701896397, 18014398509481984), (3602879701896397, 18014398509481984), (1, 5)]\n",
      "True False\n"
     ]
    }
   ],
   "source": [
    "yFlt = 0.2; yFlt2Dec = Decimal(0.2); yStr2Dec = Decimal(\"0.2\"); \n",
    "print([y.as_integer_ratio() for y in [yFlt, yFlt2Dec, yStr2Dec]]); "
   ]
  },
  {
   "cell_type": "markdown",
   "metadata": {},
   "source": [
    "因此`yFlt`(即`0.2`) 和`yFlt2Dec`(即`Decimal(0.2)`)是相等的, 但都不等于数学意义上的0.2; 其中\n",
    "* `yFlt`是`float`对象, 在构造时即产生了舍入误差, 在后续计算中逐级传递, 并**与计算中新引入的误差结合**; \n",
    "* `yFlt2Dec`(即`Decimal(0.2`)是**由`float`转换所得的**`Decimal`对象, 在构造时, 保留了浮点数`0.2`存在的舍入误差, 并且在将浮点转化为定点数的过程中, 将这个误差忠实地记录下来; \\\n",
    "    转化为定点数之后, 后续计算中不会引入新的误差, 只有**转换前的误差会被传递**; \n",
    "\n",
    "只有`yStr2Dec`(即`Decimal(\"0.2\"`)是**由`str`构造所得的**`Decimal`对象, 其结果等于数学意义上的0.2, 在部分初等函数的计算过程中不致产生或传递舍入误差. "
   ]
  },
  {
   "cell_type": "code",
   "execution_count": 50,
   "metadata": {},
   "outputs": [
    {
     "name": "stdout",
     "output_type": "stream",
     "text": [
      "True False\n",
      "[0.6000000000000001, Decimal('0.6000000000000000333066907388'), Decimal('0.6')]\n"
     ]
    }
   ],
   "source": [
    "print(yFlt == yFlt2Dec, yFlt2Dec == yStr2Dec)\n",
    "print([y * 39 / 13 for y in [yFlt, yFlt2Dec, yStr2Dec]])"
   ]
  },
  {
   "cell_type": "code",
   "execution_count": null,
   "metadata": {},
   "outputs": [],
   "source": []
  }
 ],
 "metadata": {
  "kernelspec": {
   "display_name": "Python 3",
   "language": "python",
   "name": "python3"
  },
  "language_info": {
   "codemirror_mode": {
    "name": "ipython",
    "version": 3
   },
   "file_extension": ".py",
   "mimetype": "text/x-python",
   "name": "python",
   "nbconvert_exporter": "python",
   "pygments_lexer": "ipython3",
   "version": "3.7.4"
  }
 },
 "nbformat": 4,
 "nbformat_minor": 2
}
