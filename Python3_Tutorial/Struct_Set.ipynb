{
 "cells": [
  {
   "cell_type": "markdown",
   "metadata": {},
   "source": [
    "# 集合的访问与管理"
   ]
  },
  {
   "cell_type": "code",
   "execution_count": 1,
   "metadata": {},
   "outputs": [],
   "source": [
    "S1 = {2, 3, 5, 7, 11}; "
   ]
  },
  {
   "cell_type": "markdown",
   "metadata": {},
   "source": [
    "## 集合与字典的异同\n",
    "集合内的元素, 以及字典的键, 均具有互异性和无序性; \n",
    "\n",
    "但集合内的元素无法被索引, 字典的键值对可以通过键名进行索引. "
   ]
  },
  {
   "cell_type": "code",
   "execution_count": 2,
   "metadata": {},
   "outputs": [
    {
     "name": "stdout",
     "output_type": "stream",
     "text": [
      "True True\n",
      "<class 'TypeError'> 'set' object is not subscriptable\n"
     ]
    }
   ],
   "source": [
    "print({1} == {1, 1}, {1, 2} == {2, 1}); \n",
    "try: \n",
    "    print(S1[0])\n",
    "except Exception as err: \n",
    "    print(type(err), str(err)); "
   ]
  },
  {
   "cell_type": "markdown",
   "metadata": {},
   "source": [
    "## 用`generator`对象检索集合中的内容"
   ]
  },
  {
   "cell_type": "markdown",
   "metadata": {},
   "source": [
    "### 按一定条件检索集合中的元素, 使得符合条件的检索结果应用变换, 变换结果构成子集\n",
    "* 功能上相当于Mathematica中, `Select`函数和`Map`函数的合体, 但只能`Map`到第一层. "
   ]
  },
  {
   "cell_type": "code",
   "execution_count": 3,
   "metadata": {},
   "outputs": [
    {
     "name": "stdout",
     "output_type": "stream",
     "text": [
      "{2, 3, 5, 7}\n",
      "{(7, 3), (11, 11), (11, 2), (3, 11), (7, 7), (3, 7), (2, 5), (7, 11), (7, 2), (3, 3), (5, 5), (11, 5), (2, 2), (3, 2), (5, 11), (7, 5), (2, 3), (5, 3), (2, 7), (3, 5), (11, 7), (5, 7), (2, 11), (11, 3), (5, 2)}\n"
     ]
    }
   ],
   "source": [
    "print({x for x in S1 if x < 10}) #描述法构建子集. \n",
    "print({(x, y) for x in S1 for y in S1}) #笛卡尔积. "
   ]
  },
  {
   "cell_type": "markdown",
   "metadata": {},
   "source": [
    "## 集合中计数信息的查询\n",
    "* 查询集合的基数\n",
    "* 在集合中查询...\n",
    "    * ...一个元素是否存在"
   ]
  },
  {
   "cell_type": "code",
   "execution_count": 4,
   "metadata": {},
   "outputs": [
    {
     "name": "stdout",
     "output_type": "stream",
     "text": [
      "{2, 3, 5, 7, 11}\n",
      "5\n",
      "[0, 0, 1, 1, 0, 1, 0, 1, 0, 0, 0]\n"
     ]
    }
   ],
   "source": [
    "print(S1)\n",
    "print(len(S1))\n",
    "print([int(x in S1) for x in range(0, 11, 1)])"
   ]
  },
  {
   "cell_type": "markdown",
   "metadata": {
    "scrolled": false
   },
   "source": [
    "## 集合的运算\n",
    "\n",
    "`set`对象支持的运算类型与数学中的集合运算相同, 每种运算均有两种方法, 分别提供不同的功能: \n",
    "\n",
    "|运算类型|仅返回运算结果<br>且不改变原`set`对象|修改对应的`set`对象的功能<br>(返回值为`None`)|\n",
    "|:-:|:-|:-|\n",
    "|并|`union`|`update`|\n",
    "|交|`intersection`|`intersection_update`|\n",
    "|差|`difference`|`difference_update`|\n",
    "|对称差|`symmetric_difference`|`symmetric_difference_update`|\n"
   ]
  },
  {
   "cell_type": "code",
   "execution_count": 5,
   "metadata": {
    "scrolled": false
   },
   "outputs": [
    {
     "name": "stdout",
     "output_type": "stream",
     "text": [
      "{2, 3, 5, 7, 11} {1, 3, 5, 7, 9}\n",
      "{1, 2, 3, 5, 7, 9, 11}\n",
      "{3, 5, 7}\n",
      "{2, 11}\n",
      "{1, 2, 9, 11}\n"
     ]
    }
   ],
   "source": [
    "S2 = set(range(1, 10, 2)); \n",
    "print(S1, S2); \n",
    "print(S1.union(S2)); \n",
    "print(S1.intersection(S2)); \n",
    "print(S1.difference(S2)); \n",
    "print(S1.symmetric_difference(S2)); "
   ]
  },
  {
   "cell_type": "markdown",
   "metadata": {},
   "source": [
    "## 集合的结构编辑\n",
    "以下方法若通过集合**所挂载变量直接调用**, 会直接**修改对应的`set`对象**. \n",
    "\n",
    "若只需要用一个变量链接到编辑结果, 但**不修改起初被访问的集合**, 需要先调用`copy()`方法. \n",
    "\n",
    "由于`set`内元素的无序性, 因此, 很多与**元素顺序**有关的方法**只适用于`list`, 不适用于`set`**. "
   ]
  },
  {
   "cell_type": "code",
   "execution_count": 6,
   "metadata": {},
   "outputs": [
    {
     "name": "stdout",
     "output_type": "stream",
     "text": [
      "None\n",
      "{0, 2, 3, 5, 7, 11}\n",
      "None\n",
      "{0, 1, 2, 3, 5, 7, 11}\n",
      "[2, 3, 5, 7, 11]\n",
      "None 86133448 6\n",
      "None 86133448 5\n",
      "None 86133448 4\n",
      "None 86133448 3\n",
      "None 86133448 2\n",
      "{0, 1}\n"
     ]
    }
   ],
   "source": [
    "S1_dupli = S1.copy()\n",
    "print(S1_dupli.add(0)); \n",
    "print(S1_dupli); \n",
    "print(S1_dupli.add(1)); \n",
    "print(S1_dupli); \n",
    "print([key for key in S1]); \n",
    "#set对象的remove方法必须指定元素, 执行时会删除set中得元素, 并返回None. \n",
    "[print(S1_dupli.remove(elem), id(S1_dupli), len(S1_dupli)) for elem in S1]; \n",
    "print(S1_dupli); "
   ]
  }
 ],
 "metadata": {
  "kernelspec": {
   "display_name": "Python 3",
   "language": "python",
   "name": "python3"
  },
  "language_info": {
   "codemirror_mode": {
    "name": "ipython",
    "version": 3
   },
   "file_extension": ".py",
   "mimetype": "text/x-python",
   "name": "python",
   "nbconvert_exporter": "python",
   "pygments_lexer": "ipython3",
   "version": "3.7.4"
  }
 },
 "nbformat": 4,
 "nbformat_minor": 2
}
