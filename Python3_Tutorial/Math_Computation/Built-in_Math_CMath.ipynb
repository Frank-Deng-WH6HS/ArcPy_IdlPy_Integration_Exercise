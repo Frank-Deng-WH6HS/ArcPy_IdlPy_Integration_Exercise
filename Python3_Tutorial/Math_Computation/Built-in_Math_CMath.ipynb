{
 "cells": [
  {
   "cell_type": "markdown",
   "metadata": {},
   "source": [
    "# Python的内置整型, 浮点型, 复数型对象, 以及有关的数学运算库"
   ]
  },
  {
   "cell_type": "code",
   "execution_count": 1,
   "metadata": {},
   "outputs": [],
   "source": [
    "import math, cmath; "
   ]
  },
  {
   "cell_type": "markdown",
   "metadata": {},
   "source": [
    "## 整型的运算\n",
    "* 绝对值, 取反\n",
    "* 整除, 取余\n",
    "* 位移, 位运算"
   ]
  },
  {
   "cell_type": "code",
   "execution_count": 2,
   "metadata": {},
   "outputs": [
    {
     "name": "stdout",
     "output_type": "stream",
     "text": [
      "[8117, -8117, 1272, 2029, 1056]\n"
     ]
    }
   ],
   "source": [
    "astroid_1996SD1 = 8117; astroid_1995ST53 = 17506; \n",
    "int_Oper = [abs, lambda x: -x, lambda x: astroid_1995ST53 % x, \n",
    "           lambda x: x >> 2, lambda x: x & astroid_1995ST53]\n",
    "print([oper(astroid_1996SD1) for oper in int_Oper])"
   ]
  },
  {
   "cell_type": "code",
   "execution_count": 3,
   "metadata": {},
   "outputs": [
    {
     "name": "stdout",
     "output_type": "stream",
     "text": [
      "30340 227345.71110346288\n"
     ]
    }
   ],
   "source": [
    "#整型不存在溢出现象, 可用于表示任意精度. \n",
    "#下面的结果用于计算8117的17506次幂, 但由于结果过大, 此处取其以2为底的对数, \n",
    "#显示其在二进制下具有的位数: 计算结果占据了超过25KB的内存. \n",
    "pwr = astroid_1996SD1 ** astroid_1995ST53; \n",
    "print(pwr.__sizeof__(), math.log2(pwr)); "
   ]
  },
  {
   "cell_type": "markdown",
   "metadata": {},
   "source": [
    "## 浮点型的运算"
   ]
  },
  {
   "cell_type": "code",
   "execution_count": 4,
   "metadata": {},
   "outputs": [],
   "source": [
    "#定义一系列物理量\n",
    "grav_Accl = 9.80665; #地表重力加速度(单位: m/s¹)\n",
    "rad_Terra_Equa = 6.378E6; #地球赤道半径(单位: m)\n",
    "const_Grav = 6.67259E-11; #万有引力常数(单位: m³/(kg∙s¹))\n",
    "velo_light = 2.99792458E8; #真空光速(单位: m/s)\n",
    "baro_atm_slv = 1.01325E5; #地表标准大气压(单位: Pa)\n",
    "dens_atm_slv = 1.29; #地表大气密度(单位: kg/m³)\n",
    "coeff_hgt_atm = 8.43E3; #大气密度衰减参数(单位: 1/m)\n",
    "dist_Terra_Sol = 1.496E11; #地球到太阳平均距离(单位: m)\n",
    "dist_Venus_Sol = 1.082E11; #金星到太阳平均距离(单位: m)"
   ]
  },
  {
   "cell_type": "markdown",
   "metadata": {},
   "source": [
    "### 代数运算"
   ]
  },
  {
   "cell_type": "markdown",
   "metadata": {},
   "source": [
    "#### 整除和取余\n",
    "* 计算光在1s内走过里程折合赤道的圈数"
   ]
  },
  {
   "cell_type": "code",
   "execution_count": 5,
   "metadata": {},
   "outputs": [
    {
     "name": "stdout",
     "output_type": "stream",
     "text": [
      "40074155.889191404\n",
      "6.0\n",
      "1806155.889191404\n"
     ]
    }
   ],
   "source": [
    "circ_Terra_Equa = 2 * math.pi * rad_Terra_Equa; print(circ_Terra_Equa); \n",
    "cycle_light_Equa = circ_Terra_Equa // rad_Terra_Equa; print(cycle_light_Equa); \n",
    "rmn_light_Equa = circ_Terra_Equa % rad_Terra_Equa; print(rmn_light_Equa); "
   ]
  },
  {
   "cell_type": "markdown",
   "metadata": {},
   "source": [
    "#### 乘方和开方\n",
    "* 计算地球质量和第一宇宙速度"
   ]
  },
  {
   "cell_type": "code",
   "execution_count": 6,
   "metadata": {},
   "outputs": [
    {
     "name": "stdout",
     "output_type": "stream",
     "text": [
      "5.978541732349808e+24\n",
      "7908.654354566268\n"
     ]
    }
   ],
   "source": [
    "mass_Terra = grav_Accl * math.pow(rad_Terra_Equa, 2) / const_Grav; print(mass_Terra)\n",
    "velo_weightless = math.sqrt(grav_Accl * rad_Terra_Equa); print(velo_weightless)"
   ]
  },
  {
   "cell_type": "markdown",
   "metadata": {},
   "source": [
    "### 指数, 对数, 三角和反三角运算"
   ]
  },
  {
   "cell_type": "markdown",
   "metadata": {},
   "source": [
    "#### 指数和对数\n",
    "* 对流层和平流层底部特定高度(单位: m)与气压(单位: Pa)的正反算"
   ]
  },
  {
   "cell_type": "code",
   "execution_count": 7,
   "metadata": {},
   "outputs": [
    {
     "name": "stdout",
     "output_type": "stream",
     "text": [
      "[0.9956392562257663, 0.8237486472384814, 0.6061041750864908, 0.5154767295375631, 0.31596362024477365]\n",
      "0.24441549533401485\n",
      "2414.4694597684825\n"
     ]
    }
   ],
   "source": [
    "def ρgh(): \n",
    "    return dens_atm_slv * grav_Accl * coeff_hgt_atm; \n",
    "def pressure_atmosphere(hgt): \n",
    "    return baro_atm_slv + ρgh() * (math.exp(- hgt / coeff_hgt_atm) - 1); \n",
    "def height_atmosphere(pres): \n",
    "    return coeff_hgt_atm * math.log(ρgh() / (pres - baro_atm_slv + ρgh())); \n",
    "#计算武汉, 泰山山顶, 玉山山顶, 珠峰大本营和珠峰峰顶海拔处气压相对于标准大气压的比例. \n",
    "print([pressure_atmosphere(hgt) / baro_atm_slv for hgt in [35, 1545, 3952, 5200, 8848]]); \n",
    "#计算民航客机在平流层平飞期间, 客舱外大气压相对于标准大气压的比例. \n",
    "#如果客舱发生爆炸性失压, 人在站姿状态下, 持续暴露在这一气压的大气中, 会在1 min内失去意识. \n",
    "print(pressure_atmosphere(10668) / baro_atm_slv); #此处使用的是35000 ft(10668 m)的巡航高度. \n",
    "#计算在上述巡航高度下, 当机舱内相对于舱外维持50 kPa正压时, 机舱内气压对应的海拔高度(座舱高度). \n",
    "print(height_atmosphere(pressure_atmosphere(10668) + 50000)); "
   ]
  },
  {
   "cell_type": "markdown",
   "metadata": {},
   "source": [
    "#### 三角函数, 反三角函数\n",
    "\n",
    "`math`和`cmath`中三角函数的自变量, 以及反三角函数的因变量, 均采用**弧度制**表示. \n",
    "\n",
    "在`math`中, 要求函数自变量和因变量均为实数, 因此, `math`中的函数定义与实分析中的初等函数一致: \n",
    "\n",
    "* 自然对数定义域: $\\{ x \\in \\mathbb{R} | x > 0 \\}$, \n",
    "* 反正弦, 反余弦定义域: $\\{ x \\in \\mathbb{R} | -1 \\le x \\le 1 \\}$, \n",
    "\n",
    "在实数范围内, 双曲函数可视为指数函数经过有限次四则运算获得, 反双曲函数可视为对数函数或幂函数经过有限次四则运算和复合运算获得, 但指数/对数函数与三角/反三角函数在实数范围内不可相互表示. \n",
    "\n",
    "* 计算天体间的线距离和角距离"
   ]
  },
  {
   "cell_type": "code",
   "execution_count": 8,
   "metadata": {},
   "outputs": [
    {
     "name": "stdout",
     "output_type": "stream",
     "text": [
      "46.32446075984384\n"
     ]
    }
   ],
   "source": [
    "#计算从地球上观察, 金星东/西大距时到太阳的角距离, 以角度表示: \n",
    "max_elong_Venus = math.asin(dist_Venus_Sol / dist_Terra_Sol); \n",
    "print(math.degrees(max_elong_Venus)); "
   ]
  },
  {
   "cell_type": "markdown",
   "metadata": {},
   "source": [
    "### 浮点数溢出和舍入误差的成因及其对策\n",
    "#### 浮点数溢出和出现舍入误差的成因: \n",
    "Python内置的`float`类型, 数据存储为基于IEEE 754标准的双精度浮点数. \n",
    "* IEEE 754将浮点数表示为二进制下的科学计数法, 其中符号位, 系数和指数的存储位数分别固定为1, 52和11位. 因此, 它能表示的最大绝对值是 $2 ^ {(2 ^ {10})}$, 在十进制下即为$1.79769 \\times 10 ^ {308}$; \n",
    "* 同时, 浮点数在进行四则运算的过程中, 需要移动小数点并相应调整指数(与通常手工执行科学计数法的四则运算类似, \"浮点\"\"一词因此得名). 特定情况下, 会导致系数小数部分的精度部分丢失. \n",
    "\n",
    "为了避免舍入误差, 一般有两种对策: \n",
    "1. 将小数表示为定点数对象, 例如`Fraction`(分数)或者`Decimal`(任意精度小数)对象. \\\n",
    "    但这一举措将增大CPU和内存的开销, 且计算结果不利于数据在不同高级语言所开发的软件之间的交换. \n",
    "    \n",
    "2. 从数值计算的计算方法和流程上优化, 分析舍入误差在计算步骤间传递的规律, \n",
    "    通过优化计算步骤来减少误差的累积和放大. "
   ]
  },
  {
   "cell_type": "markdown",
   "metadata": {},
   "source": [
    "#### 浮点型的溢出 (绝对值超过 $1.79769 \\times 10 ^ {308}$)"
   ]
  },
  {
   "cell_type": "code",
   "execution_count": 9,
   "metadata": {},
   "outputs": [
    {
     "name": "stdout",
     "output_type": "stream",
     "text": [
      "[<class 'OverflowError'>, \"(34, 'Result too large')\"]\n"
     ]
    }
   ],
   "source": [
    "try: \n",
    "    rad_Terra_Equa ** velo_light\n",
    "except Exception as err: \n",
    "    print([type(err), str(err)])"
   ]
  },
  {
   "cell_type": "markdown",
   "metadata": {},
   "source": [
    "#### 浮点数的舍入误差"
   ]
  },
  {
   "cell_type": "code",
   "execution_count": 10,
   "metadata": {},
   "outputs": [
    {
     "name": "stdout",
     "output_type": "stream",
     "text": [
      "False 0.3 0.30000000000000004\n",
      "['0x1.999999999999ap-4', '0x1.999999999999ap-3', '0x1.3333333333334p-2', '0x1.3333333333333p-2']\n"
     ]
    }
   ],
   "source": [
    "print(0.3 == 0.1 + 0.2, 0.3, 0.1 + 0.2); \n",
    "print([x.hex() for x in [0.1, 0.2, 0.1 + 0.2, 0.3]]); "
   ]
  },
  {
   "cell_type": "markdown",
   "metadata": {
    "scrolled": true
   },
   "source": [
    "## 复数的运算\n",
    "复数的实部和虚部分别表示为基于IEEE 754标准的双精度浮点数, 因此同样存在溢出和舍入误差问题. \n",
    "* 模长, 辐角, 极坐标-直角坐标形式互化\n",
    "* 取实部, 虚部**系数**\n",
    "* 取共轭值 "
   ]
  },
  {
   "cell_type": "code",
   "execution_count": 11,
   "metadata": {},
   "outputs": [
    {
     "name": "stdout",
     "output_type": "stream",
     "text": [
      "[1.9999999999999998, 1.0, 1.7320508075688772, (1-1.7320508075688772j)]\n",
      "59.99999999999999\n",
      "(1.9999999999999998, 1.0471975511965976)\n",
      "(1+1.732050807568877j)\n"
     ]
    }
   ],
   "source": [
    "#考察复平面xOy内, Ox正半轴上点P(2, 0)绕原点O逆时针旋转60°所得的点Q对应的复数(此时ΔPOQ是等边三角形)\n",
    "equilateral = 1 + math.sqrt(3) * 1j; \n",
    "cmplx_Oper = [abs, lambda z: z.real, lambda z: z.imag, lambda z: z.conjugate()]; \n",
    "print([oper(equilateral) for oper in cmplx_Oper]); \n",
    "eqθ = cmath.phase(equilateral); print(math.degrees(eqθ)); \n",
    "print(cmath.polar(equilateral)); \n",
    "print(cmath.rect(abs(equilateral), eqθ))"
   ]
  },
  {
   "cell_type": "markdown",
   "metadata": {
    "scrolled": true
   },
   "source": [
    "### 代数运算\n",
    "复数不能执行整除, 取余运算.     "
   ]
  },
  {
   "cell_type": "markdown",
   "metadata": {
    "scrolled": true
   },
   "source": [
    "#### 乘方和开方"
   ]
  },
  {
   "cell_type": "code",
   "execution_count": 12,
   "metadata": {},
   "outputs": [
    {
     "name": "stdout",
     "output_type": "stream",
     "text": [
      "[(1.0, 0.0), (1.414213562373095, 0.5235987755982988), (1.9999999999999998, 1.0471975511965976), (2.82842712474619, 1.5707963267948966), (3.9999999999999996, 2.0943951023931953), (5.656854249492379, 2.617993877991494), (7.999999999999998, 3.141592653589793)]\n"
     ]
    }
   ],
   "source": [
    "pwr = [equilateral ** x for x in [float(x) / 2 for x in range(0, 7)]]; \n",
    "print([cmath.polar(z) for z in pwr])"
   ]
  },
  {
   "cell_type": "markdown",
   "metadata": {
    "scrolled": true
   },
   "source": [
    "### 指数, 对数, 三角和反三角运算"
   ]
  },
  {
   "cell_type": "markdown",
   "metadata": {
    "scrolled": true
   },
   "source": [
    "#### 指数和对数运算"
   ]
  },
  {
   "cell_type": "code",
   "execution_count": 13,
   "metadata": {},
   "outputs": [
    {
     "name": "stdout",
     "output_type": "stream",
     "text": [
      "(-1+1.2246467991473532e-16j)\n",
      "3.141592653589793j\n"
     ]
    }
   ],
   "source": [
    "print(cmath.exp(math.pi * 1j)); #注意到结果出现了舍入误差. \n",
    "print(cmath.log(-1)); "
   ]
  },
  {
   "cell_type": "markdown",
   "metadata": {
    "scrolled": true
   },
   "source": [
    "#### 三角和反三角运算\n",
    "此时可以注意到: 复数是连接指对数和三角反三角的桥梁. "
   ]
  },
  {
   "cell_type": "code",
   "execution_count": 14,
   "metadata": {
    "scrolled": true
   },
   "outputs": [
    {
     "name": "stdout",
     "output_type": "stream",
     "text": [
      "8.696374707602505e+17j 8.696374707602505e+17j\n",
      "(1.5707963267948966+4.430675045349548j) (1.5707963267948966+4.430958492080543j)\n"
     ]
    }
   ],
   "source": [
    "print(cmath.sin(42j), math.sinh(42) * 1j)\n",
    "print(cmath.asin(42), math.pi / 2 + math.asinh(42) * 1j); #注意到结果出现了舍入误差. "
   ]
  }
 ],
 "metadata": {
  "kernelspec": {
   "display_name": "Python 3",
   "language": "python",
   "name": "python3"
  },
  "language_info": {
   "codemirror_mode": {
    "name": "ipython",
    "version": 3
   },
   "file_extension": ".py",
   "mimetype": "text/x-python",
   "name": "python",
   "nbconvert_exporter": "python",
   "pygments_lexer": "ipython3",
   "version": "3.7.4"
  }
 },
 "nbformat": 4,
 "nbformat_minor": 2
}
