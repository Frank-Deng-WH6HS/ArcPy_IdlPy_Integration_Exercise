{
 "cells": [
  {
   "cell_type": "markdown",
   "metadata": {},
   "source": [
    "# `pdb`调试器及其应用"
   ]
  },
  {
   "cell_type": "markdown",
   "metadata": {},
   "source": [
    "## `pdb`调试器的工作机制及其调用方法\n",
    "调用`pdb`对象中`set_trace()`方法, `pdb`将中断正在执行的语句, 停留在`pdb`上下文内, 并打开`pdb`子会话. \n",
    "\n",
    "在`pdb`会话内, 可通过输入各类命令(或者缩写), 执行不同的调试手段. \n",
    "\n",
    "因此, 可以在导入`pdb`模块的过程中, 为`set_trace`方法设置一个别名, 并将其作为断点插入到要调试的过程或者函数中. "
   ]
  },
  {
   "cell_type": "code",
   "execution_count": 3,
   "metadata": {},
   "outputs": [],
   "source": [
    "from pdb import set_trace as Breakpoint; "
   ]
  },
  {
   "cell_type": "code",
   "execution_count": 4,
   "metadata": {},
   "outputs": [],
   "source": [
    "import math, cmath\n",
    "def quadratic_equation(quad, lin, const): \n",
    "    if quad == 0: \n",
    "        return None; \n",
    "    else: \n",
    "        #在计算判别式之前插入断点. \n",
    "        Breakpoint(); \n",
    "        a = float(quad); b = float(lin); c = float(const); \n",
    "        def discriminator(a, b, c): \n",
    "            return(b ** 2 - 4 * a * c); \n",
    "        delta = discriminator(a, b, c); \n",
    "        #在使用判别式之前插入断点. \n",
    "        Breakpoint(); \n",
    "        if delta >= 0: \n",
    "            xd = math.sqrt(delta) / (2 * a); \n",
    "        else: \n",
    "            xd = cmath.sqrt(delta) / (2 * a); \n",
    "        x0 = - b / (2 * a); \n",
    "        return([x0 + xd, x0 - xd]); "
   ]
  },
  {
   "cell_type": "markdown",
   "metadata": {},
   "source": [
    "## 利用断点中断运行并进入`pdb`子会话调试 \n",
    "执行到断点时, `pdb`将指向断点之后的下一条语句. \n",
    "* 如果下一条语句调用了某个过程, 函数或者对象方法, `pdb`调试器会直接递归地进入最内层不包含任何调用的语句中. \n",
    "\n",
    "子会话打开后, 命令行输入前的提示符由\n",
    "```bash\n",
    ">>>\n",
    "```\n",
    "转变为\n",
    "```bash\n",
    "(pdb)\n",
    "```\n",
    "\n",
    "子会话中的常用命令: \n",
    "\n",
    "|命令全称|命令<br>简略形式|命令功能|\n",
    "|:-|:-|:-|\n",
    "|`step`|`s`|Step in(命令执行一条语句后中断, 遇到调用语句, 则在进入其内部后中断)|\n",
    "|`next`|`n`|Step over(命令执行一条语句后中断, 遇到调用语句, 连续执行其内部语句直至其出口)|\n",
    "|`return`|`r`|Step out(连续执行语句直至所在过程, 函数或者对象方法的出口, 返回到对其加以调用的上下文后中断)|\n",
    "|`continue`|`c`<br>`cont`|Continue(连续执行语句, 直至下一次调用`pdb`的`set_trace()`方法后中断)|\n",
    "|`p var`||打印当前上下文中以`var`为名称的变量|"
   ]
  },
  {
   "cell_type": "code",
   "execution_count": 5,
   "metadata": {},
   "outputs": [
    {
     "name": "stdout",
     "output_type": "stream",
     "text": [
      "> <ipython-input-4-9d92c2d49df0>(8)quadratic_equation()\n",
      "-> a = float(quad); b = float(lin); c = float(const);\n",
      "(Pdb) n\n",
      "> <ipython-input-4-9d92c2d49df0>(9)quadratic_equation()\n",
      "-> def discriminator(a, b, c):\n",
      "(Pdb) n\n",
      "> <ipython-input-4-9d92c2d49df0>(11)quadratic_equation()\n",
      "-> delta = discriminator(a, b, c);\n",
      "(Pdb) n\n",
      "> <ipython-input-4-9d92c2d49df0>(13)quadratic_equation()\n",
      "-> Breakpoint();\n",
      "(Pdb) n\n",
      "> <ipython-input-4-9d92c2d49df0>(14)quadratic_equation()\n",
      "-> if delta >= 0:\n",
      "(Pdb) n\n",
      "> <ipython-input-4-9d92c2d49df0>(15)quadratic_equation()\n",
      "-> xd = math.sqrt(delta) / (2 * a);\n",
      "(Pdb) n\n",
      "> <ipython-input-4-9d92c2d49df0>(18)quadratic_equation()\n",
      "-> x0 = - b / (2 * a);\n",
      "(Pdb) n\n",
      "> <ipython-input-4-9d92c2d49df0>(19)quadratic_equation()\n",
      "-> return([x0 + xd, x0 - xd]);\n",
      "(Pdb) n\n",
      "--Return--\n",
      "> <ipython-input-4-9d92c2d49df0>(19)quadratic_equation()->[0.0, -0.0]\n",
      "-> return([x0 + xd, x0 - xd]);\n",
      "(Pdb) n\n",
      "--Call--\n",
      "> d:\\anaconda3\\lib\\site-packages\\ipython\\core\\displayhook.py(252)__call__()\n",
      "-> def __call__(self, result=None):\n",
      "(Pdb) continue\n"
     ]
    },
    {
     "data": {
      "text/plain": [
       "[0.0, -0.0]"
      ]
     },
     "execution_count": 5,
     "metadata": {},
     "output_type": "execute_result"
    }
   ],
   "source": [
    "quadratic_equation(1, 0, 0)"
   ]
  }
 ],
 "metadata": {
  "kernelspec": {
   "display_name": "Python 3",
   "language": "python",
   "name": "python3"
  },
  "language_info": {
   "codemirror_mode": {
    "name": "ipython",
    "version": 3
   },
   "file_extension": ".py",
   "mimetype": "text/x-python",
   "name": "python",
   "nbconvert_exporter": "python",
   "pygments_lexer": "ipython3",
   "version": "3.7.4"
  }
 },
 "nbformat": 4,
 "nbformat_minor": 2
}
