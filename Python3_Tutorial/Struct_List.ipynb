{
 "cells": [
  {
   "cell_type": "markdown",
   "metadata": {},
   "source": [
    "# 列表的访问与管理"
   ]
  },
  {
   "cell_type": "markdown",
   "metadata": {},
   "source": [
    "## 重要提示: \n",
    "Python中一切都是对象, 因此, 语句`var = obj`不能被视为\"赋值\"语句, 而应当被视为\"挂载\"语句. \n",
    "\n",
    "Python中的`var = obj`语句, 没有类似于Visual Basic中的`Let a = b`的功能, 只有`Set a = b`功能. \n",
    "* 这个语句不传值, 只传引用. \n",
    "* 作用是将某个对象挂载到一个变量名之下, 以便后续采用这个变量名访问对象. "
   ]
  },
  {
   "cell_type": "code",
   "execution_count": 1,
   "metadata": {},
   "outputs": [],
   "source": [
    "ls = [1, 1, 2, 3, 5, 8, 13, 21]; "
   ]
  },
  {
   "cell_type": "markdown",
   "metadata": {},
   "source": [
    "## 用索引访问元素"
   ]
  },
  {
   "cell_type": "markdown",
   "metadata": {},
   "source": [
    "### 用索引访问单个元素\n",
    "* 功能上相当于Mathematica中的`Part`函数, 但只能访问到第一层. "
   ]
  },
  {
   "cell_type": "code",
   "execution_count": 2,
   "metadata": {},
   "outputs": [
    {
     "name": "stdout",
     "output_type": "stream",
     "text": [
      "[1, 1, 2, 3, 5, 8, 13, 21]\n",
      "1 2 21 8\n"
     ]
    }
   ],
   "source": [
    "print(ls)\n",
    "print(ls[0], ls[2], ls[-1], ls[-3]); "
   ]
  },
  {
   "cell_type": "markdown",
   "metadata": {},
   "source": [
    "### 用索引蔟按照一定顺序访问元素, 使得访问的结果构成子表\n",
    "* 功能上相当于Mathematica中的`Span`函数. 但是需要注意: \n",
    "    * `start: end: step`中的末项, 是`end`索引的元素的上一个元素, \\\n",
    "        因此索引簇索引的是\"左闭右开区间\". "
   ]
  },
  {
   "cell_type": "code",
   "execution_count": 3,
   "metadata": {},
   "outputs": [
    {
     "name": "stdout",
     "output_type": "stream",
     "text": [
      "[1, 1, 2, 3, 5, 8, 13, 21]\n",
      "[2] [2, 3, 5] [2, 3, 5, 8, 13]\n",
      "[2, 3, 5, 8, 13, 21] [1, 1] [1, 2, 5, 13]\n"
     ]
    }
   ],
   "source": [
    "print(ls)\n",
    "print(ls[2: 3], ls[2: 5: 1], ls[2: -1]); \n",
    "print(ls[2: ], ls[: 2: 1], ls[: : 2])"
   ]
  },
  {
   "cell_type": "markdown",
   "metadata": {},
   "source": [
    "## 用`generator`对象检索表中的内容"
   ]
  },
  {
   "cell_type": "markdown",
   "metadata": {},
   "source": [
    "### 按一定条件顺次检索表中的内容, 使得符合条件的检索结果, 按照检索顺序应用变换, 并构成子表\n",
    "* 功能上相当于Mathematica中, `Select`函数和`Map`函数的合体, 但只能`Map`到第一层. \n",
    "\n",
    "用法: \n",
    "\n",
    "```python\n",
    "[mapping(var_0) for var_0 in iter_0 if cond(var_0)]\n",
    "```\n",
    "\n",
    "* `iter_0` 迭代器\n",
    "* 支持的迭代器类型: \n",
    "    * `list`, `tuple`, `str`, (可采用`iter[slice]`语句, 利用索引蔟限制迭代范围)\n",
    "    * `range`, `enumerate`, \n",
    "    * `dict_keys`, `dict_values`, `dict_items`, `set`\n",
    "\n",
    "计算顺序: \n",
    "1. `iter_0`构造迭代器\n",
    "1. `cond(var_0)`顺次判别每个元素, 对判别通过的元素使用下一步\n",
    "1. `mapping(var_0)`对判别通过的元素应用变换, 并加入子表尾端, 判别不通过的元素不会计算这一步"
   ]
  },
  {
   "cell_type": "code",
   "execution_count": 4,
   "metadata": {
    "scrolled": true
   },
   "outputs": [
    {
     "name": "stdout",
     "output_type": "stream",
     "text": [
      "[1, 1, 2, 3, 5, 8, 13, 21]\n",
      "[5]\n",
      "[1, 1, 2, 3, 5, 8, 3, 1]\n"
     ]
    }
   ],
   "source": [
    "print(ls)\n",
    "print([elem for elem in ls if elem % 5==0]); \n",
    "print([elem % 10 for elem in ls]); "
   ]
  },
  {
   "cell_type": "markdown",
   "metadata": {
    "scrolled": true
   },
   "source": [
    "### 特殊的检索对象: `range`对象和`enumerate`对象\n",
    "本质上是两种迭代器, 这两种迭代器也可以直接用于`for`循环语句. \n",
    "* `list`, `tuple`和`dict`自身也可以作为`generator`或者`for`循环语句中的迭代器. \n",
    "\n",
    "在Python中遍历`list`, `tuple`或者`dict`中内容, 使用迭代器遍历, 要比使用循环计数变量作为下标检索`list`等中的元素来遍历, 效率更高. 这是因为: \n",
    "* `list`等中贮存的数据是弱类型的, 每个数据的字长不恒定, 因此`list`的元素数据是链式存储的. \n",
    "    * 直接用下标索引的方法迭代, 时间复杂度是$O(n^2)$; \n",
    "    * 用迭代器检索会在每次迭代后自动转到后继, 时间复杂度是$O(n^2)$. "
   ]
  },
  {
   "cell_type": "code",
   "execution_count": 5,
   "metadata": {
    "scrolled": true
   },
   "outputs": [
    {
     "name": "stdout",
     "output_type": "stream",
     "text": [
      "[1, 1, 2, 3, 5, 8, 13, 21]\n",
      "8 range(0, 8) <enumerate object at 0x0000000005056E58>\n",
      "[0, 1, 2, 3, 4, 5, 6, 7]\n",
      "[(0, 1), (1, 1), (2, 2), (3, 3), (4, 5), (5, 8), (6, 13), (7, 21)]\n"
     ]
    }
   ],
   "source": [
    "print(ls)\n",
    "idx = range(len(ls)); enum = enumerate(ls); \n",
    "print(len(ls), idx, enum)\n",
    "print(list(idx)); print(list(enum));"
   ]
  },
  {
   "cell_type": "markdown",
   "metadata": {},
   "source": [
    "### 利用`enumerate`检索和变换表中符合条件的内容, 并按检索顺序构成子表\n",
    "`enumerate(iterable)`将生成`enumerate`对象. \n",
    "* 当它作为`generator`或者`for`循环语句中的迭代器时: \n",
    "    * 遍历的元素数目与原`iterable`长度相同. \n",
    "    * 每个元素是由一个从0开始的自增变量, 以及`iterable`中遍历访问得到的元素组成的`tuple`对象. \n",
    "\n",
    "用法: \n",
    "```python\n",
    "[mapping(idx, val_0) for (idx, val_0) in enumerate(iter_0) if cond(idx, val_0)]\n",
    "```\n",
    "* 功能上相当于Mathematica中的`MapIndexed`函数, 但只能`Map`到第一层. "
   ]
  },
  {
   "cell_type": "markdown",
   "metadata": {},
   "source": [
    "### 利用`zip`检索和变换表中符合条件的内容, 并按检索顺序构成子表\n",
    "`zip(iter_1, iter_2, ...)`将生成`zip`对象. \n",
    "* 当它作为`generator`或者`for`循环语句中的迭代器时: \n",
    "    * 遍历的元素数目, 等于参与`zip`构造过程的所有迭代器长度的最小值; \n",
    "    * 每个元素是由参与`zip`构造过程的所有迭代器中, 遍历访问得到的元素, 按照各自所在的迭代器在定义语句中的出现顺序组成的`tuple`对象. \n",
    "\n",
    "用法: \n",
    "```python\n",
    "[mapping(val_1, val_2, ...) for (val_1, val_2, ...) in zip(iter_1, iter_2, ...) if cond(val_1, val_2, ...)]\n",
    "```\n",
    "* 功能上相当于Mathematica中的`MapThread`函数. "
   ]
  },
  {
   "cell_type": "code",
   "execution_count": 6,
   "metadata": {},
   "outputs": [
    {
     "name": "stdout",
     "output_type": "stream",
     "text": [
      "[1, 1, 2, 3, 5, 8, 13, 21] [0, 1, 4, 9, 16, 25, 36, 49]\n",
      "[1, 1]\n",
      "[1, 1]\n"
     ]
    }
   ],
   "source": [
    "sq = [elem ** 2 for elem in idx]; \n",
    "print(ls, sq);\n",
    "#以下两条语句分别使用`enumerate`和`zip`构造迭代器, 二者是等效的. \n",
    "print([val for (idx, val) in enumerate(ls) if val >= sq[idx]]);\n",
    "print([val_ls for (val_ls, val_sq) in zip(ls, sq) if val_ls >= val_sq]);"
   ]
  },
  {
   "cell_type": "markdown",
   "metadata": {},
   "source": [
    "## 列表中位置和计数信息的查询\n",
    "\n",
    "* 查询列表的长度\n",
    "* 查询一个元素在列表中...\n",
    "    * ...是否存在\n",
    "    * ...首次出现的位序\n",
    "    * ...出现的次数"
   ]
  },
  {
   "cell_type": "code",
   "execution_count": 7,
   "metadata": {},
   "outputs": [
    {
     "name": "stdout",
     "output_type": "stream",
     "text": [
      "[1, 1, 2, 3, 5, 8, 13, 21]\n",
      "8\n",
      "[1, 1, 1, 0, 1, 0, 0, 1, 0, 0]\n",
      "[0, 0, 2, 3, 4, 5, 6, 7]\n",
      "[2, 2, 1, 1, 1, 1, 1, 1]\n"
     ]
    }
   ],
   "source": [
    "print(ls)\n",
    "print(len(ls))\n",
    "print([int(x in ls) for x in range(1, 11)]); \n",
    "print([ls.index(elem) for elem in ls]); \n",
    "print([ls.count(elem) for elem in ls]); "
   ]
  },
  {
   "cell_type": "markdown",
   "metadata": {},
   "source": [
    "## 利用变量所对应的`list`对象的取值, 另建一个与原对象相互独立的对象 / 列表中个别元素的修改\n",
    "通过对变量名-元素下标的索引重新使用挂载语句, 会将**变量所指向**的`list`的结构修改. "
   ]
  },
  {
   "cell_type": "markdown",
   "metadata": {},
   "source": [
    "### 理解Python中`var = obj`这一\"挂载\"语句的本质\n",
    "* 如果同一个对象被挂载到两个变量, 那么, 通过任何一个变量修改了对象的内容, 从另一个变量访问到的, 也将是对象在修改后的状态. \n",
    "* 但是, 如果一个对象被建立了一个副本, 正本和副本分别被挂载到两个变量, 那么, 对两个变量所指代的对象的操作和访问, 就是相互独立, 互不干扰的了. \n",
    "\n",
    "> 例如, `ls`与`ls_dupli`分别指代两个对象, 但`ls_dupli_alias`与`ls_dupli`指代的是同一个对象. \n",
    "> * 修改了`ls_dupli`所指代的`list`之后, `ls_dupli`与`ls_dupli_alia`s的访问结果会同步改变; \n",
    "> * 但是, `ls`的访问结果却不受`ls_dupli`修改操作的影响, 反之亦然. \n",
    "\n",
    "从这个角度来看, Python中的对象模型, 实现了数据与变量的分离. \n",
    "> Python中变量的本质, 不再是存放对象以供后续访问的容器, 而是待访问或者待操作对象的一个\"别名\"或者\"跳转链接\". "
   ]
  },
  {
   "cell_type": "code",
   "execution_count": 8,
   "metadata": {},
   "outputs": [
    {
     "name": "stdout",
     "output_type": "stream",
     "text": [
      "[['0x4e8d988', [1, 1, 2, 3, 5, 8, 13, 21]], ['0x4f9a348', [1, 1, 2, 3, 5, 8, 13, 21]], ['0x4f9a348', [1, 1, 2, 3, 5, 8, 13, 21]]]\n",
      "[['0x4e8d988', [1, 1, 2, 3, 5, 8, 13, 21]], ['0x4f9a348', [1, 1, 996, 3, 5, 8, 13, 21]], ['0x4f9a348', [1, 1, 996, 3, 5, 8, 13, 21]]]\n"
     ]
    }
   ],
   "source": [
    "ls_dupli = ls.copy(); ls_dupli_alias = ls_dupli; \n",
    "print([[hex(id(obj)), obj] for obj in [ls, ls_dupli, ls_dupli_alias]])\n",
    "ls_dupli[2] = 996; \n",
    "print([[hex(id(obj)), obj] for obj in [ls, ls_dupli, ls_dupli_alias]])"
   ]
  },
  {
   "cell_type": "markdown",
   "metadata": {},
   "source": [
    "## 列表的结构编辑\n",
    "以下方法都是\"见字如面\"的, 若通过列表**所挂载变量直接调用**, 会直接**修改对应的**`list`对象\n",
    "\n",
    "若只需要用一个变量链接到编辑结果, 但**不修改起初被访问的列表**, 需要先调用`copy()`方法. \n",
    "\n",
    "`list`对象涉及到结构编辑的方法中, `pop`方法和`append`方法的合用策略值得关注: \n",
    "* `pop`方法和`append`方法合用, 可以模拟栈的功能; \n",
    "* `append`和`pop`方法的时间复杂度与表的长度无关, \n",
    "> 可能原因是: Python中的`list`对象可能存在一个始终指向表尾的指针. \n",
    "* 相较之下, Mathematica中的`List`如使用`AppendTo`操作, 耗时将随着`List`的长度增加而延长. \n",
    "> 可能原因是: `AppendTo`的每次操作, 需要从被操作的表头索引到表尾, 并修改结构. "
   ]
  },
  {
   "cell_type": "code",
   "execution_count": 9,
   "metadata": {},
   "outputs": [
    {
     "name": "stdout",
     "output_type": "stream",
     "text": [
      "[1, 1, 2, 3, 5, 8, 13, 21]\n",
      "21 [1, 1, 2, 3, 5, 8, 13]\n",
      "None [13, 8, 5, 3, 2, 1, 1]\n",
      "None [13, 8, 5, 3, 2, 1, 1, 0]\n",
      "None [13, 8, 5, 3, 2, 1, 1, 0, -1, 1, -2, 3, -5]\n",
      "None [21, 13, 8, 5, 3, 2, 1, 1, 0, -1, 1, -2, 3, -5]\n",
      "None [-5, -2, -1, 0, 1, 1, 1, 2, 3, 3, 5, 8, 13, 21]\n",
      "[-5, -2, -1, 0, 1, 1, 2, 3, 3, 5, 8, 13, 21]\n",
      "[-5, -2, 0, 1, 2, 3, 5, 8, 21]\n"
     ]
    }
   ],
   "source": [
    "ls_dupli = ls.copy(); print(ls_dupli); \n",
    "#pop方法删除表尾的最后一个元素. \n",
    "print(ls_dupli.pop(), ls_dupli); \n",
    "#reverse方法使表中的全体元素反序. 这一方法将直接修改被操作的list对象. \n",
    "print(ls_dupli.reverse(), ls_dupli); \n",
    "#append方法向表的末尾插入一个元素. 插入后的位序永远在表的末尾. \n",
    "print(ls_dupli.append(0), ls_dupli); \n",
    "#extend方法向表的末尾顺次插入若干个元素, 插入顺序与extend使用的参数中元素的顺序一致. \n",
    "#每个元素在插入后的位序永远在插入操作执行期间, 被操作的list对象的末尾. \n",
    "print(ls_dupli.extend([-1, 1, -2, 3, -5]), ls_dupli); \n",
    "#insert方法先指定被插入元素在插入后的位序, 再指定被插入元素的内容. \n",
    "print(ls_dupli.insert(0, 21), ls_dupli); \n",
    "#sort方法将按照数字或者字符串从小到大排序. \n",
    "print(ls_dupli.sort(), ls_dupli); \n",
    "#对变量名-元素下标的索引使用del语句, 可删除对应位置的元素. \n",
    "del ls_dupli[4]; print(ls_dupli); \n",
    "#用索引蔟按照一定顺序删除对应位置的元素. \n",
    "del ls_dupli[2: : 3]; print(ls_dupli); #从表头开始遍历, 每遍历3个元素删去当前元素. "
   ]
  }
 ],
 "metadata": {
  "kernelspec": {
   "display_name": "Python 3",
   "language": "python",
   "name": "python3"
  },
  "language_info": {
   "codemirror_mode": {
    "name": "ipython",
    "version": 3
   },
   "file_extension": ".py",
   "mimetype": "text/x-python",
   "name": "python",
   "nbconvert_exporter": "python",
   "pygments_lexer": "ipython3",
   "version": "3.7.4"
  }
 },
 "nbformat": 4,
 "nbformat_minor": 2
}
