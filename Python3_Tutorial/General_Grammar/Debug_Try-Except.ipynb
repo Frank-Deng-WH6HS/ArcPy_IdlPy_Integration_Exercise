{
 "cells": [
  {
   "cell_type": "code",
   "execution_count": 2,
   "metadata": {},
   "outputs": [],
   "source": [
    "'''\n",
    "Python错误处理语句: try-except\n",
    "用法: \n",
    "    try: \n",
    "        statements\n",
    "    except ErrType1 as err: \n",
    "        statements\n",
    "    except ErrType2 as err: \n",
    "        ...\n",
    "    ...\n",
    "    except Exception as err: \n",
    "        statements(err)\n",
    "首先, 执行try下的子语句, 当遇到第一个错误时, 将错误信息构造为不同类型的Error对象, 此后, \n",
    "    将Error对象的类型, 顺次与每个except语句中指定的错误类型加以匹配, 其中Exception表示\n",
    "    匹配所有类型的错误. \n",
    "当检测到第一个匹配的类型后, 开始执行该except分支下的子语句, 随后跳过后续的所有except分支. \n",
    "'''; "
   ]
  },
  {
   "cell_type": "code",
   "execution_count": 97,
   "metadata": {},
   "outputs": [],
   "source": [
    "#定义不同类型的致错操作\n",
    "import math\n",
    "def err_oper(idx): \n",
    "    if idx == 1: #整型, 浮点型被零除\n",
    "        return(1 / 0); \n",
    "    if idx == 2: #浮点型上溢\n",
    "        #Python中的浮点型是双精度的, 直接用代数运算制造上溢会报错. \n",
    "        #但整型, 分数型, 十进制小数型都是任意精度的, 用代数运算不会制造上溢. \n",
    "        return(10. ** 309); \n",
    "    if idx == 3: #命名空间内的变量未定义\n",
    "        return(x); \n",
    "    if idx == 4: #对各种操作符, 过程, 函数传入参数时, 参数的类型错误\n",
    "        return(math.sin(\"Angle\")); \n",
    "    if idx == 5: #调用函数后的输出结果发生异常(例如math包中计算结果得到复数)\n",
    "        return(math.sqrt(-1)); \n",
    "    if idx == 6: #list, tuple, str索引下标越界\n",
    "        return(list()[0]); \n",
    "    if idx == 7: #dict索引的键不存在\n",
    "        return(dict()[0]); \n",
    "    if idx == 8: #错误访问不同的命名空间中的变量\n",
    "        del x;  \n",
    "    if idx == 9: #对象的属性或者方法不存在\n",
    "        return(math.ideology) "
   ]
  },
  {
   "cell_type": "code",
   "execution_count": 98,
   "metadata": {
    "scrolled": true
   },
   "outputs": [
    {
     "name": "stdout",
     "output_type": "stream",
     "text": [
      "<class 'ZeroDivisionError'>\n",
      "<class 'OverflowError'>\n",
      "<class 'UnboundLocalError'>\n",
      "<class 'TypeError'>\n",
      "<class 'ValueError'>\n",
      "<class 'IndexError'>\n",
      "<class 'KeyError'>\n",
      "<class 'UnboundLocalError'>\n",
      "<class 'AttributeError'>\n"
     ]
    }
   ],
   "source": [
    "for idx in range(1, 11):\n",
    "    try: \n",
    "        err_oper(idx); \n",
    "    except Exception as err: \n",
    "        print(type(err)); "
   ]
  },
  {
   "cell_type": "code",
   "execution_count": null,
   "metadata": {},
   "outputs": [],
   "source": []
  }
 ],
 "metadata": {
  "kernelspec": {
   "display_name": "Python 3",
   "language": "python",
   "name": "python3"
  },
  "language_info": {
   "codemirror_mode": {
    "name": "ipython",
    "version": 3
   },
   "file_extension": ".py",
   "mimetype": "text/x-python",
   "name": "python",
   "nbconvert_exporter": "python",
   "pygments_lexer": "ipython3",
   "version": "3.7.4"
  }
 },
 "nbformat": 4,
 "nbformat_minor": 2
}
