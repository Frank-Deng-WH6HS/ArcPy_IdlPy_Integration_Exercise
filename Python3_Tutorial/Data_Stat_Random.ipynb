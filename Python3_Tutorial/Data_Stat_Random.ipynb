{
 "cells": [
  {
   "cell_type": "markdown",
   "metadata": {},
   "source": [
    "# Python内置的统计运算库"
   ]
  },
  {
   "cell_type": "code",
   "execution_count": 1,
   "metadata": {},
   "outputs": [],
   "source": [
    "import math, statistics as stat, random "
   ]
  },
  {
   "cell_type": "markdown",
   "metadata": {},
   "source": [
    "## 给定实验数据\n",
    "本示例中, 我们使用\"六三制\"八年级春季学期的数学课本$^{[1]}$中, 涉及到的一组作物产量数据开展统计. \n",
    "\n",
    "> 农科院为了选出适合某地种植的甜玉米种子, 对甲, 乙两个品种各用10块自然条件相同的试验田进行试验, 得到各试验田的单位面积产量(单位: t/ha)\n",
    ">> 这里应该是采用了单因素的试验设计: \n",
    ">> * 单因素(品种类型)2水平(2个品种)\n",
    ">> * 一共2个处理, 每个处理10个重复\n",
    ">> * 采用了完全随机试验的方法\n",
    ">\n",
    "> |处理|1|2|3|4|5|6|7|8|9|10|\n",
    "> |:-:|:-:|:-:|:-:|:-:|:-:|:-:|:-:|:-:|:-:|:-:|\n",
    "> |甲|7.65|7.50|7.62|7.59|7.65|7.64|7.50|7.40|7.41|7.41|\n",
    "> |乙|7.55|7.56|7.53|7.44|7.49|7.52|7.58|7.46|7.53|7.49|\n",
    "\n",
    "\\[1\\]人民教育出版社, 等. 义务教育教科书-数学-八年级下册[M]. -北京: 人民教育出版社. 2013"
   ]
  },
  {
   "cell_type": "code",
   "execution_count": 2,
   "metadata": {},
   "outputs": [],
   "source": [
    "yield_1 = [7.65, 7.50, 7.62, 7.59, 7.65, 7.64, 7.50, 7.40, 7.41, 7.41]; \n",
    "yield_2 = [7.55, 7.56, 7.53, 7.44, 7.49, 7.52, 7.58, 7.46, 7.53, 7.49]; "
   ]
  },
  {
   "cell_type": "markdown",
   "metadata": {},
   "source": [
    "## `Python 3.7`版本下`statistics`支持的运算\n",
    "* 算术平均值, 调和平均值, 中位数, 众数, 样本方差/标准差, 总体方差/标准差. \n",
    "* 支持对`int`, `float`, `Fraction`, `Decimal`对象的运算, 上述对象可被容纳于`list`, `tuple`或`set`对象中. \n",
    "* 只支持计算**一元随机变量**的统计量, **不支持计算多元随机变量的统计量**(如均值中心, 中位中心, 众数中心, 协方差矩阵等). \n",
    "* 不支持分位数, 分位距计算. \n",
    "* 没有集成参数估计, 假设检验, 回归分析等功能. "
   ]
  },
  {
   "cell_type": "code",
   "execution_count": 3,
   "metadata": {},
   "outputs": [
    {
     "name": "stdout",
     "output_type": "stream",
     "text": [
      "[[7.537, 7.545, 0.01106777777777777], [7.515, 7.525, 0.0019833333333333218]]\n"
     ]
    }
   ],
   "source": [
    "print([[stat(data) for stat in [stat.mean, stat.median, stat.variance]] \\\n",
    "    for data in [yield_1, yield_2]])"
   ]
  },
  {
   "cell_type": "markdown",
   "metadata": {},
   "source": [
    "## 基于`random`库的抽样"
   ]
  },
  {
   "cell_type": "markdown",
   "metadata": {},
   "source": [
    "### 从有限数量的样本中抽样\n",
    "`random`库支持从具有有限个数元素的结构中, 有放回或者无放回地随机抽取若干元素. \n",
    "\n",
    "|抽样类型|方法|适用的结构类型|备注|\n",
    "|:-:|:-|:-|:-|\n",
    "|无放回抽样|`random.sample(obj, k)`|`list`, `tuple`, <br>`str`, `set`|`k`为抽取的样本数, `k`$\\le$`len(obj)`; <br>返回的结果为`list`对象|\n",
    "|有放回抽样|`random.choices(obj, weights = None, `<br>`cum_weights = None, k = 1)`|`list`, `tuple`, <br>`str`, `set`|`k`为抽取的样本数; <br>`weights`, `cum_weights`分别为`obj`被转换为`list`<br>对象后, 对应元素抽取的权重和累计权重; <br>上述两参数可指定任意一项, 不能同时指定, 要求为`list`<br>对象, 且与`obj`具有相同的长度; 二者均未指定时, 则按照<br>相等概率抽取`obj`中的各元素. <br>返回的结果为`list`对象|"
   ]
  },
  {
   "cell_type": "code",
   "execution_count": 4,
   "metadata": {},
   "outputs": [
    {
     "name": "stdout",
     "output_type": "stream",
     "text": [
      "ABCDEFGHIJKLMNOPQRSTUVWXYZ\n",
      "VUKCAWSPMFHQGBO\n",
      "MGGBMIUXTOWCXFO\n"
     ]
    }
   ],
   "source": [
    "#从大写拉丁字母A-Z中, 分别无放回和有放回地取出15个字母, 并记录每次取出的字母. \n",
    "src_smp = [chr(x) for x in range(65, 91)]; \n",
    "print(str().join(src_smp)); \n",
    "print(str().join(random.sample(src_smp, 15))); \n",
    "print(str().join(random.choices(src_smp, k = 15))); "
   ]
  },
  {
   "cell_type": "markdown",
   "metadata": {},
   "source": [
    "### 从服从特定分布的总体中抽样\n",
    "`random`库支持从特定的整体中抽样, 其中用于抽样的整体服从常见的分布: \n",
    "\n",
    "|方法名称|分布名称|概率密度 $\\text{PDF}(X)$|总体密度 $\\text{CDF}(X)$|期望 $E(X)$|方差 $D(X)$|\n",
    "|:-|:-:|:-:|:-:|:-:|:-:|\n",
    "|`random`<br>`.betavariate(α, β)`|贝塔分布|$$\\frac{x^{\\alpha -1} (1-x)^{\\beta -1}}{B(\\alpha ,\\beta )}$$|$$I_x(\\alpha ,\\beta )$$|$$\\frac{\\alpha }{\\alpha +\\beta }$$|$$\\frac{\\alpha  \\beta }{(\\alpha +\\beta )^2 (\\alpha +\\beta +1)}$$|\n",
    "|`random`<br>`.expovariate(λ)`|指数分布|$$\\lambda  e^{\\lambda  (-x)}$$|$$1-e^{\\lambda  (-x)} $$|$$\\frac{1}{\\lambda }$$|$$\\frac{1}{\\lambda ^2}$$|\n",
    "|`random`<br>`.gammavariate(α, β)`|伽马分布|$$\\frac{\\beta ^{-\\alpha } x^{\\alpha -1} e^{-\\frac{x}{\\beta }}}{\\Gamma (\\alpha )}$$|$$Q\\left(\\alpha ,0,\\frac{x}{\\beta }\\right)$$|$$\\alpha  \\beta$$|$$\\alpha  \\beta ^2$$|\n",
    "|`random`<br>`.lognormvariate(μ, σ)`|对数正态分布|$$\\frac{e^{-\\frac{(x \\log -\\mu )^2}{2 \\sigma ^2}}}{\\sqrt{2 \\pi } \\sigma  x}$$|$$\\frac{\\text{erfc} (\\mu -x \\log )}{2 \\left(\\sqrt{2} \\sigma \\right)}$$|$$e^{\\mu +\\frac{\\sigma ^2}{2}}$$|$$\\left(e^{\\sigma ^2}-1\\right) e^{2 \\mu +\\sigma ^2}$$|\n",
    "|`random`<br>`.normalvariate(μ, σ)`|正态分布|$$\\frac{e^{-\\frac{(x-\\mu )^2}{2 \\sigma ^2}}}{\\sqrt{2 \\pi } \\sigma }$$|$$\\frac{\\text{erfc} (\\mu -x)}{2 \\left(\\sqrt{2} \\sigma \\right)}$$|$$\\mu$$|$$\\sigma ^2$$|\n",
    "|`random`<br>`.paretovariate(α)`|帕雷托(Pareto)分布|$$\\alpha  x^{-\\alpha -1}$$|$$1-\\left(\\frac{1}{x}\\right)^{\\alpha }$$|$$\\frac{\\alpha }{\\alpha -1}$$|$$\\frac{\\alpha }{(\\alpha -2) (\\alpha -1)^2}$$|\n",
    "|`random`<br>`.triangular(a, b, c)`|三角分布|$$\\frac{2 (x-a)}{(b-a) (c-a)}$$<br>$$(a \\le x \\lt c)$$<br>$$\\frac{2 (b-x)}{(b-a) (b-c)}$$<br>$$(c \\le x \\lt b)$$|$$\\frac{(x-a)^2}{(b-a) (c-a)}$$<br>$$(a \\le x \\lt c)$$<br>$$1-\\frac{(b-x)^2}{(b-a) (b-c)}$$<br>$$(c \\le x \\lt b)$$|$$\\frac{1}{3} (a+b+c)$$|$$\\frac{1}{18} \\left(a^2-a b-a c+b^2-b c+c^2\\right)$$|\n",
    "|`random`<br>`.uniform(a, b)`|均匀随机分布|$$\\frac{1}{b-a}$$|$$\\frac{x-a}{b-a}$$|$$\\frac{a+b}{2}$$|$$\\frac{1}{12} (b-a)^2$$|\n",
    "|`random`<br>`.vonmisesvariate(μ, κ)`|冯∙米塞斯(von Mises)分布|$$\\frac{e^{\\kappa  (\\cos  (x-\\mu ))}}{2 \\pi  I_0(\\kappa )}$$|$$\\frac{x-a}{b-a}$$|||\n",
    "|`random`<br>`.weibullvariate(α, β)`|威布尔(Weibul)分布|$$\\frac{\\alpha  e^{-\\left(\\frac{x}{\\beta }\\right)^{\\alpha }} \\left(\\frac{x}{\\beta }\\right)^{\\alpha -1}}{\\beta }$$|$$1-e^{-\\left(\\frac{x}{\\beta }\\right)^{\\alpha }}$$|$$\\beta \\cdot \\Gamma \\left(1+\\frac{1}{\\alpha }\\right)$$|$$\\beta ^2 \\left(\\Gamma \\left(1+\\frac{2}{\\alpha } \\right)  -\\Gamma \\left(1+\\frac{1}{\\alpha }\\right)^2\\right)$$|"
   ]
  },
  {
   "cell_type": "code",
   "execution_count": 5,
   "metadata": {},
   "outputs": [
    {
     "name": "stdout",
     "output_type": "stream",
     "text": [
      "[683257, 954513, 997365]\n"
     ]
    }
   ],
   "source": [
    "#模拟实验验证正态分布的3σ原则. \n",
    "#服从正态分布的一元随机变量, 取值在均值上下1, 2, 3倍标准差以内的概率, 分别为68.3%, 95.4%和99.7%. \n",
    "#从标准正态分布N(0,1)的总体随机抽样一百万次, 统计抽样结果的绝对值并计数. \n",
    "freq_mu_sigma = [0, 0, 0]; #初始化计数器: 记录抽样结果落在1, 2, 3倍标准差内的试验次数. \n",
    "for idx_smp_test in range(0, 10 ** 6): #抽样一百万次\n",
    "    x_smp = random.normalvariate(0, 1); #从标准正态分布中抽样, 记录抽样结果. \n",
    "    #标准正态分布N(0, 1)满足μ=0, σ=1. \n",
    "    #因此本案例中抽样结果的绝对值, 反映了任意参数的正态分布中, 抽样结果到均值距离与标准差之比. \n",
    "    smp_coeff = min(math.floor(abs(x_smp)), 3); \n",
    "    for idx_smp_coeff in range(smp_coeff, 3): \n",
    "        freq_mu_sigma[idx_smp_coeff] = freq_mu_sigma[idx_smp_coeff] + 1; \n",
    "print(freq_mu_sigma);"
   ]
  }
 ],
 "metadata": {
  "kernelspec": {
   "display_name": "Python 3",
   "language": "python",
   "name": "python3"
  },
  "language_info": {
   "codemirror_mode": {
    "name": "ipython",
    "version": 3
   },
   "file_extension": ".py",
   "mimetype": "text/x-python",
   "name": "python",
   "nbconvert_exporter": "python",
   "pygments_lexer": "ipython3",
   "version": "3.7.4"
  }
 },
 "nbformat": 4,
 "nbformat_minor": 2
}
