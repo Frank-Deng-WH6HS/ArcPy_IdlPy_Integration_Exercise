{
 "cells": [
  {
   "cell_type": "code",
   "execution_count": 1,
   "metadata": {},
   "outputs": [],
   "source": [
    "module_imported = False; \n",
    "while not(module_imported):\n",
    "    try: \n",
    "        import numpy, scipy, sympy, pandas; \n",
    "    except SyntaxError: \n",
    "        continue; \n",
    "    else: \n",
    "        break; \n",
    "import arcpy; "
   ]
  }
 ],
 "metadata": {
  "kernelspec": {
   "display_name": "Python 2",
   "language": "python",
   "name": "python2"
  },
  "language_info": {
   "codemirror_mode": {
    "name": "ipython",
    "version": 2
   },
   "file_extension": ".py",
   "mimetype": "text/x-python",
   "name": "python",
   "nbconvert_exporter": "python",
   "pygments_lexer": "ipython2",
   "version": "2.7.12"
  }
 },
 "nbformat": 4,
 "nbformat_minor": 2
}
